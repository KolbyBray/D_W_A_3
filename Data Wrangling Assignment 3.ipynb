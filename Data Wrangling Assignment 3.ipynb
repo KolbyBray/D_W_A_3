{
 "cells": [
  {
   "cell_type": "code",
   "execution_count": 28,
   "id": "92afec19",
   "metadata": {},
   "outputs": [],
   "source": [
    "# Questions:\n",
    "# 1. Diabetes Set: (20 Points)\n",
    "# a. Find all patients with Diabetes using the codes above by listing their patient IDs.\n",
    "# b. Find the cardinality of the Diabetes set.\n",
    "\n",
    "# 2. COVID Set: (20 Points)\n",
    "# a. Find all patients with COVID using the codes above by listing their patient IDs.\n",
    "# b. Find the cardinality of the COVID set.\n",
    "\n",
    "# 3. Intersection Set (20 Points)\n",
    "# a. Find all patients with Diabetes and COVID using the codes above by listing their patient IDs.\n",
    "# b. Find the cardinality of the Intersection set.\n",
    "\n",
    "# 4. Union Set (20 Points)\n",
    "# a. Find all patients with Diabetes or COVID using the codes above by listing their patient IDs.\n",
    "# b. Find the cardinality of the Intersection set.\n",
    "\n",
    "# 5. Draw a Venn diagram showing the Diabetes, COVID, Intersection and Union sets. You might need to use a package. (40 points)\n",
    "\n",
    "# 6. Diabetes only after COVID Set (30 points)\n",
    "# a. Now including the date of diagnosis, find all patients with Diabetes only after they had\n",
    "# COVID by listing their patient IDs.\n",
    "# b. Find the cardinality of the Diabetes only after COVID set.\n",
    "# c. Provide a count breakdown for each of the diabetes codes listed above occurring only after COVID."
   ]
  },
  {
   "cell_type": "code",
   "execution_count": 29,
   "id": "a40325ad",
   "metadata": {},
   "outputs": [
    {
     "name": "stdout",
     "output_type": "stream",
     "text": [
      "       Unnamed: 0  Patient ID Diagnosis Code        Date\n",
      "0               0   4725559.0          E03.9  2020-09-20\n",
      "1               1   7637008.0          R53.1  2019-10-27\n",
      "2               2   5068050.0          I48.1  2020-11-22\n",
      "3               3   1342235.0          E11.9  2022-01-27\n",
      "4               4   4520230.0          N39.0  2020-05-17\n",
      "...           ...         ...            ...         ...\n",
      "40601       40601   5728765.0          R53.0  2022-02-11\n",
      "40602       40602   1806928.0          E03.9  2020-10-29\n",
      "40603       40603    269579.0          J20.9  2021-02-10\n",
      "40604       40604   4173184.0          M54.5  2019-12-12\n",
      "40605       40605   1340228.0            E11  2020-07-25\n",
      "\n",
      "[40606 rows x 4 columns]\n"
     ]
    }
   ],
   "source": [
    "# Imports and Libraries\n",
    "import pandas as pd\n",
    "import matplotlib.pyplot as plt\n",
    "from matplotlib_venn import venn2\n",
    "\n",
    "file_path = r\"C:\\Users\\kolby\\OneDrive\\Documents\\School\\UofU\\Spring 2024\\Biomedical Data Wrangling\\Data Wrangling Assignments\\DW3_set_exercise.csv\"\n",
    "full_df = pd.read_csv(file_path)\n",
    "print(full_df)"
   ]
  },
  {
   "cell_type": "code",
   "execution_count": 30,
   "id": "9b5687b0",
   "metadata": {},
   "outputs": [
    {
     "name": "stdout",
     "output_type": "stream",
     "text": [
      "Diabetes Patients\n",
      "<bound method Series.unique of 3        1342235.0\n",
      "13       1841379.0\n",
      "15       6120921.0\n",
      "19       3465224.0\n",
      "29       1358532.0\n",
      "           ...    \n",
      "40585    2810484.0\n",
      "40587    5804887.0\n",
      "40595    7160137.0\n",
      "40596    6607308.0\n",
      "40605    1340228.0\n",
      "Name: Patient ID, Length: 7224, dtype: float64>\n"
     ]
    }
   ],
   "source": [
    "#1.a.\n",
    "\n",
    "dia_codes = ['E08', 'E09', 'E10', 'E11', 'E13']\n",
    "\n",
    "dia_df = full_df[full_df['Diagnosis Code'].str.contains('|'.join(dia_codes))]\n",
    "\n",
    "diabetes_patients = dia_df['Patient ID'].unique\n",
    "print(\"Diabetes Patients\")\n",
    "print(diabetes_patients)"
   ]
  },
  {
   "cell_type": "code",
   "execution_count": 31,
   "id": "0781fd1f",
   "metadata": {},
   "outputs": [
    {
     "name": "stdout",
     "output_type": "stream",
     "text": [
      "Cardinality of Diabetes set: 369524395800\n"
     ]
    }
   ],
   "source": [
    "#1.b.\n",
    "dia_card = dia_df.apply(lambda x: x.nunique()).prod()\n",
    "print(\"Cardinality of Diabetes set:\", dia_card)"
   ]
  },
  {
   "cell_type": "code",
   "execution_count": 32,
   "id": "a2886926",
   "metadata": {},
   "outputs": [
    {
     "name": "stdout",
     "output_type": "stream",
     "text": [
      "COVID Patients\n",
      "<bound method Series.unique of 31       5692899.0\n",
      "44        665176.0\n",
      "52       3651321.0\n",
      "76       1282153.0\n",
      "91       5112391.0\n",
      "           ...    \n",
      "40535    1407181.0\n",
      "40544    6967147.0\n",
      "40553    5331556.0\n",
      "40557    5080120.0\n",
      "40598    2398290.0\n",
      "Name: Patient ID, Length: 2026, dtype: float64>\n"
     ]
    }
   ],
   "source": [
    "#2.a.\n",
    "cov_codes = ['U07.1', 'J12.82']\n",
    "\n",
    "cov_df = full_df[full_df['Diagnosis Code'].str.contains('|'.join(cov_codes))]\n",
    "\n",
    "covid_patients = cov_df['Patient ID'].unique\n",
    "print(\"COVID Patients\")\n",
    "print(covid_patients)"
   ]
  },
  {
   "cell_type": "code",
   "execution_count": 33,
   "id": "423c1db6",
   "metadata": {},
   "outputs": [
    {
     "name": "stdout",
     "output_type": "stream",
     "text": [
      "Cardinality of COVID set: 7161281940\n"
     ]
    }
   ],
   "source": [
    "#2.b.\n",
    "cov_card = cov_df.apply(lambda x: x.nunique()).prod()\n",
    "print(\"Cardinality of COVID set:\", cov_card)"
   ]
  },
  {
   "cell_type": "code",
   "execution_count": 34,
   "id": "2b2da897",
   "metadata": {},
   "outputs": [
    {
     "name": "stdout",
     "output_type": "stream",
     "text": [
      "Intersection of COVID and Diabetes Patients\n",
      "<bound method Series.unique of 84       3929198.0\n",
      "147      4330450.0\n",
      "456      7307359.0\n",
      "510      4588797.0\n",
      "605      2465811.0\n",
      "           ...    \n",
      "39390    4908235.0\n",
      "39412     266223.0\n",
      "40005    2831596.0\n",
      "40055     626112.0\n",
      "40059    4322839.0\n",
      "Name: Patient ID, Length: 224, dtype: float64>\n"
     ]
    }
   ],
   "source": [
    "#3.a.\n",
    "dia_patients = full_df[full_df['Diagnosis Code'].str.startswith(tuple(dia_codes))]\n",
    "cov_patients = full_df[full_df['Diagnosis Code'].isin(cov_codes)]\n",
    "inter_df = dia_patients[dia_patients['Patient ID'].isin(cov_patients['Patient ID'])]\n",
    "\n",
    "inter_patients = inter_df['Patient ID'].unique\n",
    "print(\"Intersection of COVID and Diabetes Patients\")\n",
    "print(inter_patients)"
   ]
  },
  {
   "cell_type": "code",
   "execution_count": 35,
   "id": "4bf919b2",
   "metadata": {},
   "outputs": [
    {
     "name": "stdout",
     "output_type": "stream",
     "text": [
      "Cardinality of COVID and Diabetes set: 69895168\n"
     ]
    }
   ],
   "source": [
    "#3.b.\n",
    "inter_card = inter_df.apply(lambda x: x.nunique()).prod()\n",
    "print(\"Cardinality of COVID and Diabetes set:\", inter_card)"
   ]
  },
  {
   "cell_type": "code",
   "execution_count": 36,
   "id": "2267b031",
   "metadata": {},
   "outputs": [
    {
     "name": "stdout",
     "output_type": "stream",
     "text": [
      "Union of COVID and Diabetes Patients\n",
      "<bound method Series.unique of 3        1342235.0\n",
      "13       1841379.0\n",
      "15       6120921.0\n",
      "19       3465224.0\n",
      "29       1358532.0\n",
      "           ...    \n",
      "40587    5804887.0\n",
      "40595    7160137.0\n",
      "40596    6607308.0\n",
      "40598    2398290.0\n",
      "40605    1340228.0\n",
      "Name: Patient ID, Length: 9250, dtype: float64>\n"
     ]
    }
   ],
   "source": [
    "#4.a.\n",
    "union_codes = ['U07.1', 'J12.82', 'E08', 'E09', 'E10', 'E11', 'E13']\n",
    "\n",
    "union_df = full_df[full_df['Diagnosis Code'].str.contains('|'.join(union_codes))]\n",
    "\n",
    "union_patients = union_df['Patient ID'].unique\n",
    "print(\"Union of COVID and Diabetes Patients\")\n",
    "print(union_patients)"
   ]
  },
  {
   "cell_type": "code",
   "execution_count": 37,
   "id": "8786c768",
   "metadata": {},
   "outputs": [
    {
     "name": "stdout",
     "output_type": "stream",
     "text": [
      "Cardinality of COVID and Diabetes set: 771328899000\n"
     ]
    }
   ],
   "source": [
    "#4.b.\n",
    "union_card = union_df.apply(lambda x: x.nunique()).prod()\n",
    "print(\"Cardinality of COVID and Diabetes set:\", union_card)"
   ]
  },
  {
   "cell_type": "code",
   "execution_count": 38,
   "id": "0c60d64c",
   "metadata": {},
   "outputs": [
    {
     "data": {
      "image/png": "[encoded data removed]",
      "text/plain": [
       "<Figure size 640x480 with 1 Axes>"
      ]
     },
     "metadata": {},
     "output_type": "display_data"
    }
   ],
   "source": [
    "#5.\n",
    "diabetes_set = set(range(7224))\n",
    "covid_set = set(range(2026))\n",
    "both_set = set(range(224))\n",
    "venn2(subsets=(len(diabetes_set - both_set), len(covid_set - both_set), len(both_set)),\n",
    "      set_labels=('Diabetes', 'COVID'))\n",
    "\n",
    "plt.title(\"Venn Diagram of Patients with Diabetes and COVID\")\n",
    "plt.show()"
   ]
  },
  {
   "cell_type": "code",
   "execution_count": 39,
   "id": "214f6299",
   "metadata": {},
   "outputs": [
    {
     "name": "stdout",
     "output_type": "stream",
     "text": [
      "Patients with diabetes after COVID\n",
      "[3929198. 7307359. 4588797. 2465811. 7542154. 2299370. 4030547.  138575.\n",
      "  222248. 2805177.  788972. 3591475. 1441531. 1464780. 7588462. 2301586.\n",
      " 5316149. 6523303. 5615770. 7609020. 7588327.  227866. 6142172. 3636206.\n",
      " 2827584. 2320798. 2369658. 7181285. 6615827. 4852233.  663704. 6471767.\n",
      " 3464904. 7231631. 5931449.  620623.  482256. 3385968. 4282462. 3812900.\n",
      " 4056916.  175474. 7373904. 1811725. 4159922.  818167. 1700963. 1346682.\n",
      " 5744768.  734644. 5595625. 2986113. 3651321. 5159103. 5855408. 2483513.\n",
      " 1856152. 6379191. 4678019. 5637379. 4595704. 3459970. 2028809. 5055782.\n",
      " 5588458.  628441. 6617399. 3428304. 3091854. 1781822. 1603639. 6450265.\n",
      " 6029907. 7635276.  606183. 4927942. 6399983. 2481330. 7631360. 2356742.\n",
      " 5019777. 7193414. 2629565. 6028000. 1165591. 1610879. 4406239. 5878004.\n",
      " 4859240. 3058621. 2646629. 4908235.  626112. 4322839.]\n"
     ]
    }
   ],
   "source": [
    "#6.a.\n",
    "cov_patients = full_df[full_df['Diagnosis Code'].isin(cov_codes)]\n",
    "first_covid_dates = cov_patients.groupby('Patient ID')['Date'].min().reset_index()\n",
    "\n",
    "dia_patients = full_df[full_df['Diagnosis Code'].str.startswith(tuple(dia_codes))]\n",
    "after_df = pd.merge(dia_patients, first_covid_dates, on='Patient ID', suffixes=('', '_first_covid'))\n",
    "after_df = after_df[after_df['Date'] > after_df['Date_first_covid']]\n",
    "\n",
    "after_patients = after_df['Patient ID'].unique()\n",
    "print(\"Patients with diabetes after COVID\")\n",
    "print(after_patients)"
   ]
  },
  {
   "cell_type": "code",
   "execution_count": 40,
   "id": "8aa1fb0a",
   "metadata": {},
   "outputs": [
    {
     "name": "stdout",
     "output_type": "stream",
     "text": [
      "Cardinality of COVID and Diabetes set: 500939348\n"
     ]
    }
   ],
   "source": [
    "#6.b.\n",
    "after_card = after_df.apply(lambda x: x.nunique()).prod()\n",
    "print(\"Cardinality of COVID and Diabetes set:\", after_card)"
   ]
  },
  {
   "cell_type": "code",
   "execution_count": 41,
   "id": "b668385d",
   "metadata": {},
   "outputs": [
    {
     "name": "stdout",
     "output_type": "stream",
     "text": [
      "Diagnosis Code\n",
      "E11      17\n",
      "E13      16\n",
      "E10      16\n",
      "E11.9    14\n",
      "E08      13\n",
      "E13.9    10\n",
      "E09       8\n",
      "Name: count, dtype: int64\n"
     ]
    }
   ],
   "source": [
    "diagnosis_code_frequency = after_df['Diagnosis Code'].value_counts()\n",
    "print(diagnosis_code_frequency)"
   ]
  },
  {
   "cell_type": "code",
   "execution_count": null,
   "id": "83ce85ca",
   "metadata": {},
   "outputs": [],
   "source": []
  }
 ],
 "metadata": {
  "kernelspec": {
   "display_name": "Python 3 (ipykernel)",
   "language": "python",
   "name": "python3"
  },
  "language_info": {
   "codemirror_mode": {
    "name": "ipython",
    "version": 3
   },
   "file_extension": ".py",
   "mimetype": "text/x-python",
   "name": "python",
   "nbconvert_exporter": "python",
   "pygments_lexer": "ipython3",
   "version": "3.11.5"
  }
 },
 "nbformat": 4,
 "nbformat_minor": 5
}
